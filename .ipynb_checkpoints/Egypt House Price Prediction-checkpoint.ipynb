{
 "cells": [
  {
   "cell_type": "code",
   "execution_count": 1,
   "id": "1cedfb9c",
   "metadata": {},
   "outputs": [],
   "source": [
    "import pandas as pd\n",
    "import numpy as np"
   ]
  },
  {
   "cell_type": "code",
   "execution_count": 2,
   "id": "8cf08a57",
   "metadata": {},
   "outputs": [],
   "source": [
    "data = pd.read_csv('houses_data_v2.csv')"
   ]
  },
  {
   "cell_type": "code",
   "execution_count": 3,
   "id": "7d9ad734",
   "metadata": {},
   "outputs": [
    {
     "data": {
      "text/html": [
       "<div>\n",
       "<style scoped>\n",
       "    .dataframe tbody tr th:only-of-type {\n",
       "        vertical-align: middle;\n",
       "    }\n",
       "\n",
       "    .dataframe tbody tr th {\n",
       "        vertical-align: top;\n",
       "    }\n",
       "\n",
       "    .dataframe thead th {\n",
       "        text-align: right;\n",
       "    }\n",
       "</style>\n",
       "<table border=\"1\" class=\"dataframe\">\n",
       "  <thead>\n",
       "    <tr style=\"text-align: right;\">\n",
       "      <th></th>\n",
       "      <th>House_Type</th>\n",
       "      <th>Size</th>\n",
       "      <th>Bedrooms</th>\n",
       "      <th>Bathrooms</th>\n",
       "      <th>Floor</th>\n",
       "      <th>Furnished</th>\n",
       "      <th>For_rent</th>\n",
       "      <th>Region</th>\n",
       "      <th>City</th>\n",
       "      <th>Price</th>\n",
       "    </tr>\n",
       "  </thead>\n",
       "  <tbody>\n",
       "    <tr>\n",
       "      <th>0</th>\n",
       "      <td>Apartment</td>\n",
       "      <td>170</td>\n",
       "      <td>3</td>\n",
       "      <td>2</td>\n",
       "      <td>9</td>\n",
       "      <td>No</td>\n",
       "      <td>No</td>\n",
       "      <td>Zahraa Al Maadi</td>\n",
       "      <td>Cairo</td>\n",
       "      <td>1546400</td>\n",
       "    </tr>\n",
       "    <tr>\n",
       "      <th>1</th>\n",
       "      <td>Apartment</td>\n",
       "      <td>104</td>\n",
       "      <td>2</td>\n",
       "      <td>1</td>\n",
       "      <td>7</td>\n",
       "      <td>No</td>\n",
       "      <td>No</td>\n",
       "      <td>Nasr City</td>\n",
       "      <td>Cairo</td>\n",
       "      <td>950000</td>\n",
       "    </tr>\n",
       "    <tr>\n",
       "      <th>2</th>\n",
       "      <td>Apartment</td>\n",
       "      <td>160</td>\n",
       "      <td>3</td>\n",
       "      <td>2</td>\n",
       "      <td>1</td>\n",
       "      <td>No</td>\n",
       "      <td>No</td>\n",
       "      <td>Mostakbal City</td>\n",
       "      <td>Cairo</td>\n",
       "      <td>2100000</td>\n",
       "    </tr>\n",
       "    <tr>\n",
       "      <th>3</th>\n",
       "      <td>Apartment</td>\n",
       "      <td>160</td>\n",
       "      <td>3</td>\n",
       "      <td>3</td>\n",
       "      <td>Ground</td>\n",
       "      <td>No</td>\n",
       "      <td>No</td>\n",
       "      <td>New Cairo - El Tagamoa</td>\n",
       "      <td>Cairo</td>\n",
       "      <td>3994232</td>\n",
       "    </tr>\n",
       "    <tr>\n",
       "      <th>4</th>\n",
       "      <td>Apartment</td>\n",
       "      <td>145</td>\n",
       "      <td>3</td>\n",
       "      <td>2</td>\n",
       "      <td>3</td>\n",
       "      <td>No</td>\n",
       "      <td>No</td>\n",
       "      <td>New Cairo - El Tagamoa</td>\n",
       "      <td>Cairo</td>\n",
       "      <td>370000</td>\n",
       "    </tr>\n",
       "  </tbody>\n",
       "</table>\n",
       "</div>"
      ],
      "text/plain": [
       "  House_Type  Size  Bedrooms  Bathrooms   Floor Furnished For_rent  \\\n",
       "0  Apartment   170         3          2       9        No       No   \n",
       "1  Apartment   104         2          1       7        No       No   \n",
       "2  Apartment   160         3          2       1        No       No   \n",
       "3  Apartment   160         3          3  Ground        No       No   \n",
       "4  Apartment   145         3          2       3        No       No   \n",
       "\n",
       "                   Region   City    Price  \n",
       "0         Zahraa Al Maadi  Cairo  1546400  \n",
       "1               Nasr City  Cairo   950000  \n",
       "2          Mostakbal City  Cairo  2100000  \n",
       "3  New Cairo - El Tagamoa  Cairo  3994232  \n",
       "4  New Cairo - El Tagamoa  Cairo   370000  "
      ]
     },
     "execution_count": 3,
     "metadata": {},
     "output_type": "execute_result"
    }
   ],
   "source": [
    "data.head()"
   ]
  },
  {
   "cell_type": "code",
   "execution_count": 4,
   "id": "004443d3",
   "metadata": {},
   "outputs": [
    {
     "data": {
      "text/plain": [
       "(23347, 10)"
      ]
     },
     "execution_count": 4,
     "metadata": {},
     "output_type": "execute_result"
    }
   ],
   "source": [
    "data.shape"
   ]
  },
  {
   "cell_type": "code",
   "execution_count": 5,
   "id": "bf11ae77",
   "metadata": {},
   "outputs": [
    {
     "name": "stdout",
     "output_type": "stream",
     "text": [
      "<class 'pandas.core.frame.DataFrame'>\n",
      "RangeIndex: 23347 entries, 0 to 23346\n",
      "Data columns (total 10 columns):\n",
      " #   Column      Non-Null Count  Dtype \n",
      "---  ------      --------------  ----- \n",
      " 0   House_Type  23347 non-null  object\n",
      " 1   Size        23347 non-null  int64 \n",
      " 2   Bedrooms    23347 non-null  int64 \n",
      " 3   Bathrooms   23347 non-null  int64 \n",
      " 4   Floor       23347 non-null  object\n",
      " 5   Furnished   23347 non-null  object\n",
      " 6   For_rent    23347 non-null  object\n",
      " 7   Region      23347 non-null  object\n",
      " 8   City        23347 non-null  object\n",
      " 9   Price       23347 non-null  int64 \n",
      "dtypes: int64(4), object(6)\n",
      "memory usage: 1.8+ MB\n"
     ]
    }
   ],
   "source": [
    "data.info()"
   ]
  },
  {
   "cell_type": "code",
   "execution_count": 6,
   "id": "e952cd56",
   "metadata": {},
   "outputs": [
    {
     "name": "stdout",
     "output_type": "stream",
     "text": [
      "House_Type\n",
      "Apartment            19150\n",
      "Duplex                1255\n",
      "Town House             888\n",
      "Stand Alone Villa      570\n",
      "Penthouse              496\n",
      "Studio                 448\n",
      "Twin House             304\n",
      "Chalet                 210\n",
      "Room                    22\n",
      "Standalone Villa         4\n",
      "Name: count, dtype: int64\n",
      "********************\n",
      "Size\n",
      "200    881\n",
      "150    771\n",
      "140    744\n",
      "160    715\n",
      "120    712\n",
      "      ... \n",
      "36       1\n",
      "41       1\n",
      "61       1\n",
      "307      1\n",
      "347      1\n",
      "Name: count, Length: 368, dtype: int64\n",
      "********************\n",
      "Bedrooms\n",
      "3    14030\n",
      "2     5690\n",
      "4     2508\n",
      "1      744\n",
      "5      375\n",
      "Name: count, dtype: int64\n",
      "********************\n",
      "Bathrooms\n",
      "2    9678\n",
      "3    7628\n",
      "1    4773\n",
      "4    1268\n",
      "Name: count, dtype: int64\n",
      "********************\n",
      "Floor\n",
      "2          7334\n",
      "3          5070\n",
      "1          3455\n",
      "Ground     2645\n",
      "4          2052\n",
      "5          1057\n",
      "6           392\n",
      "10+         329\n",
      "7           285\n",
      "10          209\n",
      "8           205\n",
      "9           183\n",
      "Highest     131\n",
      "Name: count, dtype: int64\n",
      "********************\n",
      "Furnished\n",
      "No     20100\n",
      "Yes     3247\n",
      "Name: count, dtype: int64\n",
      "********************\n",
      "For_rent\n",
      "No     16565\n",
      "Yes     6782\n",
      "Name: count, dtype: int64\n",
      "********************\n",
      "Region\n",
      "New Cairo - El Tagamoa    8723\n",
      "Sheikh Zayed              2303\n",
      "Madinaty                  1978\n",
      "New Capital City          1136\n",
      "Rehab City                1110\n",
      "                          ... \n",
      "Basateen                     3\n",
      "Boulaq Dakrour               3\n",
      "Moneeb                       3\n",
      "Ras El Tin                   1\n",
      "Kabbary                      1\n",
      "Name: count, Length: 79, dtype: int64\n",
      "********************\n",
      "City\n",
      "Cairo         16615\n",
      "Giza           4267\n",
      "Alexandria     2465\n",
      "Name: count, dtype: int64\n",
      "********************\n",
      "Price\n",
      "15000      398\n",
      "10000      391\n",
      "12000      336\n",
      "20000      301\n",
      "2500000    270\n",
      "          ... \n",
      "1167218      1\n",
      "242350       1\n",
      "2488000      1\n",
      "577000       1\n",
      "12700        1\n",
      "Name: count, Length: 3170, dtype: int64\n",
      "********************\n"
     ]
    }
   ],
   "source": [
    "for column in data.columns:\n",
    "    print(data[column].value_counts())\n",
    "    print(\"*\"*20)"
   ]
  },
  {
   "cell_type": "code",
   "execution_count": 7,
   "id": "ee591743",
   "metadata": {},
   "outputs": [
    {
     "data": {
      "text/plain": [
       "House_Type    0\n",
       "Size          0\n",
       "Bedrooms      0\n",
       "Bathrooms     0\n",
       "Floor         0\n",
       "Furnished     0\n",
       "For_rent      0\n",
       "Region        0\n",
       "City          0\n",
       "Price         0\n",
       "dtype: int64"
      ]
     },
     "execution_count": 7,
     "metadata": {},
     "output_type": "execute_result"
    }
   ],
   "source": [
    "data.isna().sum()"
   ]
  },
  {
   "cell_type": "code",
   "execution_count": 8,
   "id": "245dfdef",
   "metadata": {},
   "outputs": [
    {
     "data": {
      "text/html": [
       "<div>\n",
       "<style scoped>\n",
       "    .dataframe tbody tr th:only-of-type {\n",
       "        vertical-align: middle;\n",
       "    }\n",
       "\n",
       "    .dataframe tbody tr th {\n",
       "        vertical-align: top;\n",
       "    }\n",
       "\n",
       "    .dataframe thead th {\n",
       "        text-align: right;\n",
       "    }\n",
       "</style>\n",
       "<table border=\"1\" class=\"dataframe\">\n",
       "  <thead>\n",
       "    <tr style=\"text-align: right;\">\n",
       "      <th></th>\n",
       "      <th>Size</th>\n",
       "      <th>Bedrooms</th>\n",
       "      <th>Bathrooms</th>\n",
       "      <th>Price</th>\n",
       "    </tr>\n",
       "  </thead>\n",
       "  <tbody>\n",
       "    <tr>\n",
       "      <th>count</th>\n",
       "      <td>23347.000000</td>\n",
       "      <td>23347.000000</td>\n",
       "      <td>23347.000000</td>\n",
       "      <td>2.334700e+04</td>\n",
       "    </tr>\n",
       "    <tr>\n",
       "      <th>mean</th>\n",
       "      <td>170.380349</td>\n",
       "      <td>2.832098</td>\n",
       "      <td>2.230908</td>\n",
       "      <td>1.374141e+06</td>\n",
       "    </tr>\n",
       "    <tr>\n",
       "      <th>std</th>\n",
       "      <td>64.273958</td>\n",
       "      <td>0.717415</td>\n",
       "      <td>0.833736</td>\n",
       "      <td>1.412544e+06</td>\n",
       "    </tr>\n",
       "    <tr>\n",
       "      <th>min</th>\n",
       "      <td>1.000000</td>\n",
       "      <td>1.000000</td>\n",
       "      <td>1.000000</td>\n",
       "      <td>2.000000e+03</td>\n",
       "    </tr>\n",
       "    <tr>\n",
       "      <th>25%</th>\n",
       "      <td>130.000000</td>\n",
       "      <td>2.000000</td>\n",
       "      <td>2.000000</td>\n",
       "      <td>2.200000e+04</td>\n",
       "    </tr>\n",
       "    <tr>\n",
       "      <th>50%</th>\n",
       "      <td>160.000000</td>\n",
       "      <td>3.000000</td>\n",
       "      <td>2.000000</td>\n",
       "      <td>9.500000e+05</td>\n",
       "    </tr>\n",
       "    <tr>\n",
       "      <th>75%</th>\n",
       "      <td>200.000000</td>\n",
       "      <td>3.000000</td>\n",
       "      <td>3.000000</td>\n",
       "      <td>2.400000e+06</td>\n",
       "    </tr>\n",
       "    <tr>\n",
       "      <th>max</th>\n",
       "      <td>400.000000</td>\n",
       "      <td>5.000000</td>\n",
       "      <td>4.000000</td>\n",
       "      <td>5.000000e+06</td>\n",
       "    </tr>\n",
       "  </tbody>\n",
       "</table>\n",
       "</div>"
      ],
      "text/plain": [
       "               Size      Bedrooms     Bathrooms         Price\n",
       "count  23347.000000  23347.000000  23347.000000  2.334700e+04\n",
       "mean     170.380349      2.832098      2.230908  1.374141e+06\n",
       "std       64.273958      0.717415      0.833736  1.412544e+06\n",
       "min        1.000000      1.000000      1.000000  2.000000e+03\n",
       "25%      130.000000      2.000000      2.000000  2.200000e+04\n",
       "50%      160.000000      3.000000      2.000000  9.500000e+05\n",
       "75%      200.000000      3.000000      3.000000  2.400000e+06\n",
       "max      400.000000      5.000000      4.000000  5.000000e+06"
      ]
     },
     "execution_count": 8,
     "metadata": {},
     "output_type": "execute_result"
    }
   ],
   "source": [
    "data.describe()"
   ]
  },
  {
   "cell_type": "code",
   "execution_count": 9,
   "id": "8023e88e",
   "metadata": {},
   "outputs": [
    {
     "data": {
      "text/plain": [
       "array(['Apartment', 'Penthouse', 'Duplex', 'Studio', 'Room', 'Chalet',\n",
       "       'Town House', 'Twin House', 'Standalone Villa',\n",
       "       'Stand Alone Villa'], dtype=object)"
      ]
     },
     "execution_count": 9,
     "metadata": {},
     "output_type": "execute_result"
    }
   ],
   "source": [
    "#House_Type\tSize\tBedrooms\tBathrooms\tFloor\tFurnished\tFor_rent\tRegion\tCity\tPrice\n",
    "data['House_Type'].unique()"
   ]
  },
  {
   "cell_type": "code",
   "execution_count": 10,
   "id": "26376ee2",
   "metadata": {},
   "outputs": [
    {
     "data": {
      "text/plain": [
       "array(['9', '7', '1', 'Ground', '3', '2', '4', '6', '5', '10', '8',\n",
       "       'Highest', '10+'], dtype=object)"
      ]
     },
     "execution_count": 10,
     "metadata": {},
     "output_type": "execute_result"
    }
   ],
   "source": [
    "data['Floor'].unique()"
   ]
  },
  {
   "cell_type": "code",
   "execution_count": 11,
   "id": "080539f7",
   "metadata": {},
   "outputs": [
    {
     "data": {
      "text/plain": [
       "array([1546400,  950000, 2100000, ...,   19498,   75000,   12700],\n",
       "      dtype=int64)"
      ]
     },
     "execution_count": 11,
     "metadata": {},
     "output_type": "execute_result"
    }
   ],
   "source": [
    "data['Price'].unique()"
   ]
  },
  {
   "cell_type": "code",
   "execution_count": 12,
   "id": "18adfd31",
   "metadata": {},
   "outputs": [],
   "source": [
    "def map_floor(value):\n",
    "    if value == 'Ground':\n",
    "        return 0\n",
    "    elif value == '10+':\n",
    "        return 11\n",
    "    elif value == 'Highest' :\n",
    "        return 12     \n",
    "    else:\n",
    "        return int(value)"
   ]
  },
  {
   "cell_type": "code",
   "execution_count": 13,
   "id": "847df598",
   "metadata": {},
   "outputs": [],
   "source": [
    "data['Floor'] = data['Floor'].apply(map_floor)"
   ]
  },
  {
   "cell_type": "code",
   "execution_count": 14,
   "id": "dc01a0c9",
   "metadata": {},
   "outputs": [
    {
     "data": {
      "text/plain": [
       "array([ 9,  7,  1,  0,  3,  2,  4,  6,  5, 10,  8, 12, 11], dtype=int64)"
      ]
     },
     "execution_count": 14,
     "metadata": {},
     "output_type": "execute_result"
    }
   ],
   "source": [
    "data['Floor'].unique()"
   ]
  },
  {
   "cell_type": "code",
   "execution_count": 15,
   "id": "727ca57c",
   "metadata": {},
   "outputs": [
    {
     "data": {
      "text/html": [
       "<div>\n",
       "<style scoped>\n",
       "    .dataframe tbody tr th:only-of-type {\n",
       "        vertical-align: middle;\n",
       "    }\n",
       "\n",
       "    .dataframe tbody tr th {\n",
       "        vertical-align: top;\n",
       "    }\n",
       "\n",
       "    .dataframe thead th {\n",
       "        text-align: right;\n",
       "    }\n",
       "</style>\n",
       "<table border=\"1\" class=\"dataframe\">\n",
       "  <thead>\n",
       "    <tr style=\"text-align: right;\">\n",
       "      <th></th>\n",
       "      <th>Size</th>\n",
       "      <th>Bedrooms</th>\n",
       "      <th>Bathrooms</th>\n",
       "      <th>Floor</th>\n",
       "      <th>Price</th>\n",
       "    </tr>\n",
       "  </thead>\n",
       "  <tbody>\n",
       "    <tr>\n",
       "      <th>count</th>\n",
       "      <td>23347.000000</td>\n",
       "      <td>23347.000000</td>\n",
       "      <td>23347.000000</td>\n",
       "      <td>23347.000000</td>\n",
       "      <td>2.334700e+04</td>\n",
       "    </tr>\n",
       "    <tr>\n",
       "      <th>mean</th>\n",
       "      <td>170.380349</td>\n",
       "      <td>2.832098</td>\n",
       "      <td>2.230908</td>\n",
       "      <td>2.644494</td>\n",
       "      <td>1.374141e+06</td>\n",
       "    </tr>\n",
       "    <tr>\n",
       "      <th>std</th>\n",
       "      <td>64.273958</td>\n",
       "      <td>0.717415</td>\n",
       "      <td>0.833736</td>\n",
       "      <td>2.170625</td>\n",
       "      <td>1.412544e+06</td>\n",
       "    </tr>\n",
       "    <tr>\n",
       "      <th>min</th>\n",
       "      <td>1.000000</td>\n",
       "      <td>1.000000</td>\n",
       "      <td>1.000000</td>\n",
       "      <td>0.000000</td>\n",
       "      <td>2.000000e+03</td>\n",
       "    </tr>\n",
       "    <tr>\n",
       "      <th>25%</th>\n",
       "      <td>130.000000</td>\n",
       "      <td>2.000000</td>\n",
       "      <td>2.000000</td>\n",
       "      <td>1.000000</td>\n",
       "      <td>2.200000e+04</td>\n",
       "    </tr>\n",
       "    <tr>\n",
       "      <th>50%</th>\n",
       "      <td>160.000000</td>\n",
       "      <td>3.000000</td>\n",
       "      <td>2.000000</td>\n",
       "      <td>2.000000</td>\n",
       "      <td>9.500000e+05</td>\n",
       "    </tr>\n",
       "    <tr>\n",
       "      <th>75%</th>\n",
       "      <td>200.000000</td>\n",
       "      <td>3.000000</td>\n",
       "      <td>3.000000</td>\n",
       "      <td>3.000000</td>\n",
       "      <td>2.400000e+06</td>\n",
       "    </tr>\n",
       "    <tr>\n",
       "      <th>max</th>\n",
       "      <td>400.000000</td>\n",
       "      <td>5.000000</td>\n",
       "      <td>4.000000</td>\n",
       "      <td>12.000000</td>\n",
       "      <td>5.000000e+06</td>\n",
       "    </tr>\n",
       "  </tbody>\n",
       "</table>\n",
       "</div>"
      ],
      "text/plain": [
       "               Size      Bedrooms     Bathrooms         Floor         Price\n",
       "count  23347.000000  23347.000000  23347.000000  23347.000000  2.334700e+04\n",
       "mean     170.380349      2.832098      2.230908      2.644494  1.374141e+06\n",
       "std       64.273958      0.717415      0.833736      2.170625  1.412544e+06\n",
       "min        1.000000      1.000000      1.000000      0.000000  2.000000e+03\n",
       "25%      130.000000      2.000000      2.000000      1.000000  2.200000e+04\n",
       "50%      160.000000      3.000000      2.000000      2.000000  9.500000e+05\n",
       "75%      200.000000      3.000000      3.000000      3.000000  2.400000e+06\n",
       "max      400.000000      5.000000      4.000000     12.000000  5.000000e+06"
      ]
     },
     "execution_count": 15,
     "metadata": {},
     "output_type": "execute_result"
    }
   ],
   "source": [
    "data.describe()"
   ]
  },
  {
   "cell_type": "code",
   "execution_count": 16,
   "id": "fd81fcbc",
   "metadata": {},
   "outputs": [
    {
     "data": {
      "text/plain": [
       "array(['No', 'Yes'], dtype=object)"
      ]
     },
     "execution_count": 16,
     "metadata": {},
     "output_type": "execute_result"
    }
   ],
   "source": [
    "data['Furnished'].unique()"
   ]
  },
  {
   "cell_type": "code",
   "execution_count": 17,
   "id": "a1e457db",
   "metadata": {},
   "outputs": [
    {
     "data": {
      "text/plain": [
       "array(['No', 'Yes'], dtype=object)"
      ]
     },
     "execution_count": 17,
     "metadata": {},
     "output_type": "execute_result"
    }
   ],
   "source": [
    "data['For_rent'].unique()"
   ]
  },
  {
   "cell_type": "code",
   "execution_count": null,
   "id": "07020b14",
   "metadata": {},
   "outputs": [],
   "source": []
  },
  {
   "cell_type": "code",
   "execution_count": null,
   "id": "9d4574cc",
   "metadata": {},
   "outputs": [],
   "source": []
  },
  {
   "cell_type": "code",
   "execution_count": 18,
   "id": "1ece9d97",
   "metadata": {},
   "outputs": [],
   "source": [
    "def convert_bool_to_numeric(x):\n",
    "    if x == 'Yes':\n",
    "        return 1\n",
    "    elif x == 'No':\n",
    "        return 0"
   ]
  },
  {
   "cell_type": "code",
   "execution_count": 19,
   "id": "19f37455",
   "metadata": {},
   "outputs": [],
   "source": [
    "data['Furnished'] = data['Furnished'].apply(convert_bool_to_numeric)\n",
    "data['For_rent'] = data['For_rent'].apply(convert_bool_to_numeric)"
   ]
  },
  {
   "cell_type": "code",
   "execution_count": 20,
   "id": "4b21986a",
   "metadata": {},
   "outputs": [
    {
     "data": {
      "text/plain": [
       "array([0, 1], dtype=int64)"
      ]
     },
     "execution_count": 20,
     "metadata": {},
     "output_type": "execute_result"
    }
   ],
   "source": [
    "data['Furnished'].unique()"
   ]
  },
  {
   "cell_type": "code",
   "execution_count": 21,
   "id": "a089ca57",
   "metadata": {},
   "outputs": [
    {
     "data": {
      "text/plain": [
       "array([0, 1], dtype=int64)"
      ]
     },
     "execution_count": 21,
     "metadata": {},
     "output_type": "execute_result"
    }
   ],
   "source": [
    "data['For_rent'].unique()"
   ]
  },
  {
   "cell_type": "code",
   "execution_count": 22,
   "id": "241bb5a6",
   "metadata": {},
   "outputs": [],
   "source": [
    "# House_Type\tSize\tBedrooms\tBathrooms\tFloor\tFurnished\tFor_rent\tRegion\tCity\tPrice\n",
    "data['House_Type'] = data['House_Type'].apply(lambda x: x.strip())\n",
    "data['Region'] = data['Region'].apply(lambda x: x.strip())\n",
    "data['City'] = data['City'].apply(lambda x: x.strip())\n"
   ]
  },
  {
   "cell_type": "code",
   "execution_count": 23,
   "id": "49cb0e98",
   "metadata": {},
   "outputs": [
    {
     "data": {
      "text/plain": [
       "House_Type\n",
       "Apartment            19150\n",
       "Duplex                1255\n",
       "Town House             888\n",
       "Stand Alone Villa      570\n",
       "Penthouse              496\n",
       "Studio                 448\n",
       "Twin House             304\n",
       "Chalet                 210\n",
       "Room                    22\n",
       "Standalone Villa         4\n",
       "Name: count, dtype: int64"
      ]
     },
     "execution_count": 23,
     "metadata": {},
     "output_type": "execute_result"
    }
   ],
   "source": [
    "data['House_Type'].value_counts()"
   ]
  },
  {
   "cell_type": "code",
   "execution_count": 24,
   "id": "2c0c1848",
   "metadata": {},
   "outputs": [
    {
     "data": {
      "text/plain": [
       "Region\n",
       "New Cairo - El Tagamoa    8723\n",
       "Sheikh Zayed              2303\n",
       "Madinaty                  1978\n",
       "New Capital City          1136\n",
       "Rehab City                1110\n",
       "                          ... \n",
       "Basateen                     3\n",
       "Boulaq Dakrour               3\n",
       "Moneeb                       3\n",
       "Ras El Tin                   1\n",
       "Kabbary                      1\n",
       "Name: count, Length: 79, dtype: int64"
      ]
     },
     "execution_count": 24,
     "metadata": {},
     "output_type": "execute_result"
    }
   ],
   "source": [
    "data['Region'].value_counts()"
   ]
  },
  {
   "cell_type": "code",
   "execution_count": 25,
   "id": "d11eda32",
   "metadata": {},
   "outputs": [
    {
     "data": {
      "text/plain": [
       "City\n",
       "Cairo         16615\n",
       "Giza           4267\n",
       "Alexandria     2465\n",
       "Name: count, dtype: int64"
      ]
     },
     "execution_count": 25,
     "metadata": {},
     "output_type": "execute_result"
    }
   ],
   "source": [
    "data['City'].value_counts()"
   ]
  },
  {
   "cell_type": "code",
   "execution_count": 26,
   "id": "d767d456",
   "metadata": {},
   "outputs": [
    {
     "data": {
      "text/html": [
       "<div>\n",
       "<style scoped>\n",
       "    .dataframe tbody tr th:only-of-type {\n",
       "        vertical-align: middle;\n",
       "    }\n",
       "\n",
       "    .dataframe tbody tr th {\n",
       "        vertical-align: top;\n",
       "    }\n",
       "\n",
       "    .dataframe thead th {\n",
       "        text-align: right;\n",
       "    }\n",
       "</style>\n",
       "<table border=\"1\" class=\"dataframe\">\n",
       "  <thead>\n",
       "    <tr style=\"text-align: right;\">\n",
       "      <th></th>\n",
       "      <th>Size</th>\n",
       "      <th>Bedrooms</th>\n",
       "      <th>Bathrooms</th>\n",
       "      <th>Floor</th>\n",
       "      <th>Furnished</th>\n",
       "      <th>For_rent</th>\n",
       "      <th>Price</th>\n",
       "    </tr>\n",
       "  </thead>\n",
       "  <tbody>\n",
       "    <tr>\n",
       "      <th>count</th>\n",
       "      <td>23347.000000</td>\n",
       "      <td>23347.000000</td>\n",
       "      <td>23347.000000</td>\n",
       "      <td>23347.000000</td>\n",
       "      <td>23347.000000</td>\n",
       "      <td>23347.000000</td>\n",
       "      <td>2.334700e+04</td>\n",
       "    </tr>\n",
       "    <tr>\n",
       "      <th>mean</th>\n",
       "      <td>170.380349</td>\n",
       "      <td>2.832098</td>\n",
       "      <td>2.230908</td>\n",
       "      <td>2.644494</td>\n",
       "      <td>0.139076</td>\n",
       "      <td>0.290487</td>\n",
       "      <td>1.374141e+06</td>\n",
       "    </tr>\n",
       "    <tr>\n",
       "      <th>std</th>\n",
       "      <td>64.273958</td>\n",
       "      <td>0.717415</td>\n",
       "      <td>0.833736</td>\n",
       "      <td>2.170625</td>\n",
       "      <td>0.346033</td>\n",
       "      <td>0.453997</td>\n",
       "      <td>1.412544e+06</td>\n",
       "    </tr>\n",
       "    <tr>\n",
       "      <th>min</th>\n",
       "      <td>1.000000</td>\n",
       "      <td>1.000000</td>\n",
       "      <td>1.000000</td>\n",
       "      <td>0.000000</td>\n",
       "      <td>0.000000</td>\n",
       "      <td>0.000000</td>\n",
       "      <td>2.000000e+03</td>\n",
       "    </tr>\n",
       "    <tr>\n",
       "      <th>25%</th>\n",
       "      <td>130.000000</td>\n",
       "      <td>2.000000</td>\n",
       "      <td>2.000000</td>\n",
       "      <td>1.000000</td>\n",
       "      <td>0.000000</td>\n",
       "      <td>0.000000</td>\n",
       "      <td>2.200000e+04</td>\n",
       "    </tr>\n",
       "    <tr>\n",
       "      <th>50%</th>\n",
       "      <td>160.000000</td>\n",
       "      <td>3.000000</td>\n",
       "      <td>2.000000</td>\n",
       "      <td>2.000000</td>\n",
       "      <td>0.000000</td>\n",
       "      <td>0.000000</td>\n",
       "      <td>9.500000e+05</td>\n",
       "    </tr>\n",
       "    <tr>\n",
       "      <th>75%</th>\n",
       "      <td>200.000000</td>\n",
       "      <td>3.000000</td>\n",
       "      <td>3.000000</td>\n",
       "      <td>3.000000</td>\n",
       "      <td>0.000000</td>\n",
       "      <td>1.000000</td>\n",
       "      <td>2.400000e+06</td>\n",
       "    </tr>\n",
       "    <tr>\n",
       "      <th>max</th>\n",
       "      <td>400.000000</td>\n",
       "      <td>5.000000</td>\n",
       "      <td>4.000000</td>\n",
       "      <td>12.000000</td>\n",
       "      <td>1.000000</td>\n",
       "      <td>1.000000</td>\n",
       "      <td>5.000000e+06</td>\n",
       "    </tr>\n",
       "  </tbody>\n",
       "</table>\n",
       "</div>"
      ],
      "text/plain": [
       "               Size      Bedrooms     Bathrooms         Floor     Furnished  \\\n",
       "count  23347.000000  23347.000000  23347.000000  23347.000000  23347.000000   \n",
       "mean     170.380349      2.832098      2.230908      2.644494      0.139076   \n",
       "std       64.273958      0.717415      0.833736      2.170625      0.346033   \n",
       "min        1.000000      1.000000      1.000000      0.000000      0.000000   \n",
       "25%      130.000000      2.000000      2.000000      1.000000      0.000000   \n",
       "50%      160.000000      3.000000      2.000000      2.000000      0.000000   \n",
       "75%      200.000000      3.000000      3.000000      3.000000      0.000000   \n",
       "max      400.000000      5.000000      4.000000     12.000000      1.000000   \n",
       "\n",
       "           For_rent         Price  \n",
       "count  23347.000000  2.334700e+04  \n",
       "mean       0.290487  1.374141e+06  \n",
       "std        0.453997  1.412544e+06  \n",
       "min        0.000000  2.000000e+03  \n",
       "25%        0.000000  2.200000e+04  \n",
       "50%        0.000000  9.500000e+05  \n",
       "75%        1.000000  2.400000e+06  \n",
       "max        1.000000  5.000000e+06  "
      ]
     },
     "execution_count": 26,
     "metadata": {},
     "output_type": "execute_result"
    }
   ],
   "source": [
    "data.describe()"
   ]
  },
  {
   "cell_type": "code",
   "execution_count": 27,
   "id": "2e34fa7b",
   "metadata": {},
   "outputs": [],
   "source": [
    "region_count = data['Region'].value_counts()"
   ]
  },
  {
   "cell_type": "code",
   "execution_count": 28,
   "id": "0714e5f2",
   "metadata": {},
   "outputs": [
    {
     "data": {
      "text/plain": [
       "Region\n",
       "Matareya            10\n",
       "Bahray - Anfoshy    10\n",
       "Manshiyya           10\n",
       "Ard El Lewa          9\n",
       "Imbaba               9\n",
       "Schutz               8\n",
       "Abu Qir              5\n",
       "Dar al-Salaam        5\n",
       "Garden City          4\n",
       "Qasr al-Nil          3\n",
       "Awayed               3\n",
       "Basateen             3\n",
       "Boulaq Dakrour       3\n",
       "Moneeb               3\n",
       "Ras El Tin           1\n",
       "Kabbary              1\n",
       "Name: count, dtype: int64"
      ]
     },
     "execution_count": 28,
     "metadata": {},
     "output_type": "execute_result"
    }
   ],
   "source": [
    "region_count_less_10 = region_count[region_count<= 10]\n",
    "region_count_less_10"
   ]
  },
  {
   "cell_type": "code",
   "execution_count": 29,
   "id": "57c19d2e",
   "metadata": {},
   "outputs": [],
   "source": [
    "data['Region']= data['Region'].apply(lambda x: 'other' if x in region_count_less_10 else x)"
   ]
  },
  {
   "cell_type": "code",
   "execution_count": 30,
   "id": "76f95b27",
   "metadata": {},
   "outputs": [
    {
     "data": {
      "text/plain": [
       "Region\n",
       "New Cairo - El Tagamoa    8723\n",
       "Sheikh Zayed              2303\n",
       "Madinaty                  1978\n",
       "New Capital City          1136\n",
       "Rehab City                1110\n",
       "                          ... \n",
       "Giza District               16\n",
       "Abu Talat                   13\n",
       "15 May City                 13\n",
       "Salam City                  12\n",
       "Abasiya                     12\n",
       "Name: count, Length: 64, dtype: int64"
      ]
     },
     "execution_count": 30,
     "metadata": {},
     "output_type": "execute_result"
    }
   ],
   "source": [
    "data['Region'].value_counts()"
   ]
  },
  {
   "cell_type": "code",
   "execution_count": 31,
   "id": "3422a0a6",
   "metadata": {},
   "outputs": [
    {
     "data": {
      "text/plain": [
       "Series([], Name: count, dtype: int64)"
      ]
     },
     "execution_count": 31,
     "metadata": {},
     "output_type": "execute_result"
    }
   ],
   "source": [
    "city_count = data['City'].value_counts()\n",
    "city_count_less_10 = city_count[city_count<= 10]\n",
    "city_count_less_10\n"
   ]
  },
  {
   "cell_type": "code",
   "execution_count": 32,
   "id": "30c17dbe",
   "metadata": {},
   "outputs": [],
   "source": [
    "data['City']= data['City'].apply(lambda x: 'other' if x in region_count_less_10 else x)"
   ]
  },
  {
   "cell_type": "code",
   "execution_count": 33,
   "id": "2558ce3d",
   "metadata": {},
   "outputs": [
    {
     "data": {
      "text/plain": [
       "City\n",
       "Cairo         16615\n",
       "Giza           4267\n",
       "Alexandria     2465\n",
       "Name: count, dtype: int64"
      ]
     },
     "execution_count": 33,
     "metadata": {},
     "output_type": "execute_result"
    }
   ],
   "source": [
    "data['City'].value_counts()"
   ]
  },
  {
   "cell_type": "markdown",
   "id": "542f0421",
   "metadata": {},
   "source": [
    "## outlier detection and removal"
   ]
  },
  {
   "cell_type": "code",
   "execution_count": 34,
   "id": "1104473c",
   "metadata": {},
   "outputs": [
    {
     "data": {
      "text/html": [
       "<div>\n",
       "<style scoped>\n",
       "    .dataframe tbody tr th:only-of-type {\n",
       "        vertical-align: middle;\n",
       "    }\n",
       "\n",
       "    .dataframe tbody tr th {\n",
       "        vertical-align: top;\n",
       "    }\n",
       "\n",
       "    .dataframe thead th {\n",
       "        text-align: right;\n",
       "    }\n",
       "</style>\n",
       "<table border=\"1\" class=\"dataframe\">\n",
       "  <thead>\n",
       "    <tr style=\"text-align: right;\">\n",
       "      <th></th>\n",
       "      <th>Size</th>\n",
       "      <th>Bedrooms</th>\n",
       "      <th>Bathrooms</th>\n",
       "      <th>Floor</th>\n",
       "      <th>Furnished</th>\n",
       "      <th>For_rent</th>\n",
       "      <th>Price</th>\n",
       "    </tr>\n",
       "  </thead>\n",
       "  <tbody>\n",
       "    <tr>\n",
       "      <th>count</th>\n",
       "      <td>23347.000000</td>\n",
       "      <td>23347.000000</td>\n",
       "      <td>23347.000000</td>\n",
       "      <td>23347.000000</td>\n",
       "      <td>23347.000000</td>\n",
       "      <td>23347.000000</td>\n",
       "      <td>2.334700e+04</td>\n",
       "    </tr>\n",
       "    <tr>\n",
       "      <th>mean</th>\n",
       "      <td>170.380349</td>\n",
       "      <td>2.832098</td>\n",
       "      <td>2.230908</td>\n",
       "      <td>2.644494</td>\n",
       "      <td>0.139076</td>\n",
       "      <td>0.290487</td>\n",
       "      <td>1.374141e+06</td>\n",
       "    </tr>\n",
       "    <tr>\n",
       "      <th>std</th>\n",
       "      <td>64.273958</td>\n",
       "      <td>0.717415</td>\n",
       "      <td>0.833736</td>\n",
       "      <td>2.170625</td>\n",
       "      <td>0.346033</td>\n",
       "      <td>0.453997</td>\n",
       "      <td>1.412544e+06</td>\n",
       "    </tr>\n",
       "    <tr>\n",
       "      <th>min</th>\n",
       "      <td>1.000000</td>\n",
       "      <td>1.000000</td>\n",
       "      <td>1.000000</td>\n",
       "      <td>0.000000</td>\n",
       "      <td>0.000000</td>\n",
       "      <td>0.000000</td>\n",
       "      <td>2.000000e+03</td>\n",
       "    </tr>\n",
       "    <tr>\n",
       "      <th>25%</th>\n",
       "      <td>130.000000</td>\n",
       "      <td>2.000000</td>\n",
       "      <td>2.000000</td>\n",
       "      <td>1.000000</td>\n",
       "      <td>0.000000</td>\n",
       "      <td>0.000000</td>\n",
       "      <td>2.200000e+04</td>\n",
       "    </tr>\n",
       "    <tr>\n",
       "      <th>50%</th>\n",
       "      <td>160.000000</td>\n",
       "      <td>3.000000</td>\n",
       "      <td>2.000000</td>\n",
       "      <td>2.000000</td>\n",
       "      <td>0.000000</td>\n",
       "      <td>0.000000</td>\n",
       "      <td>9.500000e+05</td>\n",
       "    </tr>\n",
       "    <tr>\n",
       "      <th>75%</th>\n",
       "      <td>200.000000</td>\n",
       "      <td>3.000000</td>\n",
       "      <td>3.000000</td>\n",
       "      <td>3.000000</td>\n",
       "      <td>0.000000</td>\n",
       "      <td>1.000000</td>\n",
       "      <td>2.400000e+06</td>\n",
       "    </tr>\n",
       "    <tr>\n",
       "      <th>max</th>\n",
       "      <td>400.000000</td>\n",
       "      <td>5.000000</td>\n",
       "      <td>4.000000</td>\n",
       "      <td>12.000000</td>\n",
       "      <td>1.000000</td>\n",
       "      <td>1.000000</td>\n",
       "      <td>5.000000e+06</td>\n",
       "    </tr>\n",
       "  </tbody>\n",
       "</table>\n",
       "</div>"
      ],
      "text/plain": [
       "               Size      Bedrooms     Bathrooms         Floor     Furnished  \\\n",
       "count  23347.000000  23347.000000  23347.000000  23347.000000  23347.000000   \n",
       "mean     170.380349      2.832098      2.230908      2.644494      0.139076   \n",
       "std       64.273958      0.717415      0.833736      2.170625      0.346033   \n",
       "min        1.000000      1.000000      1.000000      0.000000      0.000000   \n",
       "25%      130.000000      2.000000      2.000000      1.000000      0.000000   \n",
       "50%      160.000000      3.000000      2.000000      2.000000      0.000000   \n",
       "75%      200.000000      3.000000      3.000000      3.000000      0.000000   \n",
       "max      400.000000      5.000000      4.000000     12.000000      1.000000   \n",
       "\n",
       "           For_rent         Price  \n",
       "count  23347.000000  2.334700e+04  \n",
       "mean       0.290487  1.374141e+06  \n",
       "std        0.453997  1.412544e+06  \n",
       "min        0.000000  2.000000e+03  \n",
       "25%        0.000000  2.200000e+04  \n",
       "50%        0.000000  9.500000e+05  \n",
       "75%        1.000000  2.400000e+06  \n",
       "max        1.000000  5.000000e+06  "
      ]
     },
     "execution_count": 34,
     "metadata": {},
     "output_type": "execute_result"
    }
   ],
   "source": [
    "data.describe()"
   ]
  },
  {
   "cell_type": "code",
   "execution_count": 35,
   "id": "3071f5ce",
   "metadata": {},
   "outputs": [
    {
     "data": {
      "text/html": [
       "<div>\n",
       "<style scoped>\n",
       "    .dataframe tbody tr th:only-of-type {\n",
       "        vertical-align: middle;\n",
       "    }\n",
       "\n",
       "    .dataframe tbody tr th {\n",
       "        vertical-align: top;\n",
       "    }\n",
       "\n",
       "    .dataframe thead th {\n",
       "        text-align: right;\n",
       "    }\n",
       "</style>\n",
       "<table border=\"1\" class=\"dataframe\">\n",
       "  <thead>\n",
       "    <tr style=\"text-align: right;\">\n",
       "      <th></th>\n",
       "      <th>House_Type</th>\n",
       "      <th>Size</th>\n",
       "      <th>Bedrooms</th>\n",
       "      <th>Bathrooms</th>\n",
       "      <th>Floor</th>\n",
       "      <th>Furnished</th>\n",
       "      <th>For_rent</th>\n",
       "      <th>Region</th>\n",
       "      <th>City</th>\n",
       "      <th>Price</th>\n",
       "    </tr>\n",
       "  </thead>\n",
       "  <tbody>\n",
       "    <tr>\n",
       "      <th>47</th>\n",
       "      <td>Apartment</td>\n",
       "      <td>400</td>\n",
       "      <td>4</td>\n",
       "      <td>3</td>\n",
       "      <td>2</td>\n",
       "      <td>0</td>\n",
       "      <td>1</td>\n",
       "      <td>New Cairo - El Tagamoa</td>\n",
       "      <td>Cairo</td>\n",
       "      <td>15000</td>\n",
       "    </tr>\n",
       "    <tr>\n",
       "      <th>50</th>\n",
       "      <td>Apartment</td>\n",
       "      <td>330</td>\n",
       "      <td>3</td>\n",
       "      <td>3</td>\n",
       "      <td>3</td>\n",
       "      <td>1</td>\n",
       "      <td>1</td>\n",
       "      <td>New Cairo - El Tagamoa</td>\n",
       "      <td>Cairo</td>\n",
       "      <td>20000</td>\n",
       "    </tr>\n",
       "    <tr>\n",
       "      <th>57</th>\n",
       "      <td>Apartment</td>\n",
       "      <td>390</td>\n",
       "      <td>4</td>\n",
       "      <td>4</td>\n",
       "      <td>6</td>\n",
       "      <td>0</td>\n",
       "      <td>1</td>\n",
       "      <td>Heliopolis</td>\n",
       "      <td>Cairo</td>\n",
       "      <td>35000</td>\n",
       "    </tr>\n",
       "    <tr>\n",
       "      <th>76</th>\n",
       "      <td>Duplex</td>\n",
       "      <td>330</td>\n",
       "      <td>4</td>\n",
       "      <td>4</td>\n",
       "      <td>1</td>\n",
       "      <td>0</td>\n",
       "      <td>0</td>\n",
       "      <td>New Cairo - El Tagamoa</td>\n",
       "      <td>Cairo</td>\n",
       "      <td>3000000</td>\n",
       "    </tr>\n",
       "    <tr>\n",
       "      <th>104</th>\n",
       "      <td>Apartment</td>\n",
       "      <td>300</td>\n",
       "      <td>4</td>\n",
       "      <td>3</td>\n",
       "      <td>1</td>\n",
       "      <td>0</td>\n",
       "      <td>1</td>\n",
       "      <td>Nasr City</td>\n",
       "      <td>Cairo</td>\n",
       "      <td>20000</td>\n",
       "    </tr>\n",
       "    <tr>\n",
       "      <th>...</th>\n",
       "      <td>...</td>\n",
       "      <td>...</td>\n",
       "      <td>...</td>\n",
       "      <td>...</td>\n",
       "      <td>...</td>\n",
       "      <td>...</td>\n",
       "      <td>...</td>\n",
       "      <td>...</td>\n",
       "      <td>...</td>\n",
       "      <td>...</td>\n",
       "    </tr>\n",
       "    <tr>\n",
       "      <th>23201</th>\n",
       "      <td>Apartment</td>\n",
       "      <td>300</td>\n",
       "      <td>3</td>\n",
       "      <td>3</td>\n",
       "      <td>4</td>\n",
       "      <td>0</td>\n",
       "      <td>1</td>\n",
       "      <td>Dokki</td>\n",
       "      <td>Giza</td>\n",
       "      <td>35000</td>\n",
       "    </tr>\n",
       "    <tr>\n",
       "      <th>23227</th>\n",
       "      <td>Apartment</td>\n",
       "      <td>320</td>\n",
       "      <td>3</td>\n",
       "      <td>3</td>\n",
       "      <td>4</td>\n",
       "      <td>1</td>\n",
       "      <td>1</td>\n",
       "      <td>Agouza</td>\n",
       "      <td>Giza</td>\n",
       "      <td>60000</td>\n",
       "    </tr>\n",
       "    <tr>\n",
       "      <th>23229</th>\n",
       "      <td>Apartment</td>\n",
       "      <td>300</td>\n",
       "      <td>4</td>\n",
       "      <td>3</td>\n",
       "      <td>10</td>\n",
       "      <td>1</td>\n",
       "      <td>1</td>\n",
       "      <td>Agouza</td>\n",
       "      <td>Giza</td>\n",
       "      <td>3000</td>\n",
       "    </tr>\n",
       "    <tr>\n",
       "      <th>23230</th>\n",
       "      <td>Apartment</td>\n",
       "      <td>300</td>\n",
       "      <td>4</td>\n",
       "      <td>3</td>\n",
       "      <td>1</td>\n",
       "      <td>0</td>\n",
       "      <td>1</td>\n",
       "      <td>West Somid</td>\n",
       "      <td>Giza</td>\n",
       "      <td>20000</td>\n",
       "    </tr>\n",
       "    <tr>\n",
       "      <th>23269</th>\n",
       "      <td>Apartment</td>\n",
       "      <td>300</td>\n",
       "      <td>4</td>\n",
       "      <td>4</td>\n",
       "      <td>11</td>\n",
       "      <td>1</td>\n",
       "      <td>1</td>\n",
       "      <td>San Stefano</td>\n",
       "      <td>Alexandria</td>\n",
       "      <td>50000</td>\n",
       "    </tr>\n",
       "  </tbody>\n",
       "</table>\n",
       "<p>1223 rows × 10 columns</p>\n",
       "</div>"
      ],
      "text/plain": [
       "      House_Type  Size  Bedrooms  Bathrooms  Floor  Furnished  For_rent  \\\n",
       "47     Apartment   400         4          3      2          0         1   \n",
       "50     Apartment   330         3          3      3          1         1   \n",
       "57     Apartment   390         4          4      6          0         1   \n",
       "76        Duplex   330         4          4      1          0         0   \n",
       "104    Apartment   300         4          3      1          0         1   \n",
       "...          ...   ...       ...        ...    ...        ...       ...   \n",
       "23201  Apartment   300         3          3      4          0         1   \n",
       "23227  Apartment   320         3          3      4          1         1   \n",
       "23229  Apartment   300         4          3     10          1         1   \n",
       "23230  Apartment   300         4          3      1          0         1   \n",
       "23269  Apartment   300         4          4     11          1         1   \n",
       "\n",
       "                       Region        City    Price  \n",
       "47     New Cairo - El Tagamoa       Cairo    15000  \n",
       "50     New Cairo - El Tagamoa       Cairo    20000  \n",
       "57                 Heliopolis       Cairo    35000  \n",
       "76     New Cairo - El Tagamoa       Cairo  3000000  \n",
       "104                 Nasr City       Cairo    20000  \n",
       "...                       ...         ...      ...  \n",
       "23201                   Dokki        Giza    35000  \n",
       "23227                  Agouza        Giza    60000  \n",
       "23229                  Agouza        Giza     3000  \n",
       "23230              West Somid        Giza    20000  \n",
       "23269             San Stefano  Alexandria    50000  \n",
       "\n",
       "[1223 rows x 10 columns]"
      ]
     },
     "execution_count": 35,
     "metadata": {},
     "output_type": "execute_result"
    }
   ],
   "source": [
    "data = data[(data['Size'])>= 300]\n",
    "data"
   ]
  },
  {
   "cell_type": "code",
   "execution_count": 36,
   "id": "fc2bc193",
   "metadata": {},
   "outputs": [
    {
     "data": {
      "text/plain": [
       "(1223, 10)"
      ]
     },
     "execution_count": 36,
     "metadata": {},
     "output_type": "execute_result"
    }
   ],
   "source": [
    "data.shape"
   ]
  },
  {
   "cell_type": "code",
   "execution_count": 37,
   "id": "2054ffc8",
   "metadata": {},
   "outputs": [
    {
     "data": {
      "text/plain": [
       "count    1.223000e+03\n",
       "mean     1.901491e+06\n",
       "std      1.736852e+06\n",
       "min      2.600000e+03\n",
       "25%      3.500000e+04\n",
       "50%      1.550000e+06\n",
       "75%      3.500000e+06\n",
       "max      5.000000e+06\n",
       "Name: Price, dtype: float64"
      ]
     },
     "execution_count": 37,
     "metadata": {},
     "output_type": "execute_result"
    }
   ],
   "source": [
    "data.Price.describe()"
   ]
  },
  {
   "cell_type": "code",
   "execution_count": 38,
   "id": "588119ee",
   "metadata": {},
   "outputs": [
    {
     "name": "stdout",
     "output_type": "stream",
     "text": [
      "    House_Type  Size  Floor  Furnished  For_rent                  Region  \\\n",
      "47   Apartment   400      2          0         1  New Cairo - El Tagamoa   \n",
      "50   Apartment   330      3          1         1  New Cairo - El Tagamoa   \n",
      "57   Apartment   390      6          0         1              Heliopolis   \n",
      "76      Duplex   330      1          0         0  New Cairo - El Tagamoa   \n",
      "104  Apartment   300      1          0         1               Nasr City   \n",
      "\n",
      "      City    Price  BHK  \n",
      "47   Cairo    15000    8  \n",
      "50   Cairo    20000    7  \n",
      "57   Cairo    35000    9  \n",
      "76   Cairo  3000000    9  \n",
      "104  Cairo    20000    8  \n"
     ]
    }
   ],
   "source": [
    "# Create the BHK column by summing the number of bedrooms and bathrooms, and adding 1 for the kitchen\n",
    "data['BHK'] = data['Bedrooms'] + data['Bathrooms'] + 1\n",
    "\n",
    "# Drop the Bedrooms and Bathrooms columns\n",
    "data = data.drop(['Bedrooms', 'Bathrooms'], axis=1)\n",
    "print(data.head())"
   ]
  },
  {
   "cell_type": "code",
   "execution_count": 39,
   "id": "c63aad5f",
   "metadata": {},
   "outputs": [],
   "source": [
    "data = data.drop([ 'Furnished', 'For_rent'], axis = 1)"
   ]
  },
  {
   "cell_type": "code",
   "execution_count": 40,
   "id": "3bb85e1e",
   "metadata": {},
   "outputs": [
    {
     "data": {
      "text/plain": [
       "(1223, 7)"
      ]
     },
     "execution_count": 40,
     "metadata": {},
     "output_type": "execute_result"
    }
   ],
   "source": [
    "data.shape"
   ]
  },
  {
   "cell_type": "code",
   "execution_count": 41,
   "id": "667f896a",
   "metadata": {},
   "outputs": [
    {
     "data": {
      "text/html": [
       "<div>\n",
       "<style scoped>\n",
       "    .dataframe tbody tr th:only-of-type {\n",
       "        vertical-align: middle;\n",
       "    }\n",
       "\n",
       "    .dataframe tbody tr th {\n",
       "        vertical-align: top;\n",
       "    }\n",
       "\n",
       "    .dataframe thead th {\n",
       "        text-align: right;\n",
       "    }\n",
       "</style>\n",
       "<table border=\"1\" class=\"dataframe\">\n",
       "  <thead>\n",
       "    <tr style=\"text-align: right;\">\n",
       "      <th></th>\n",
       "      <th>House_Type</th>\n",
       "      <th>Size</th>\n",
       "      <th>Floor</th>\n",
       "      <th>Region</th>\n",
       "      <th>City</th>\n",
       "      <th>Price</th>\n",
       "      <th>BHK</th>\n",
       "    </tr>\n",
       "  </thead>\n",
       "  <tbody>\n",
       "    <tr>\n",
       "      <th>47</th>\n",
       "      <td>Apartment</td>\n",
       "      <td>400</td>\n",
       "      <td>2</td>\n",
       "      <td>New Cairo - El Tagamoa</td>\n",
       "      <td>Cairo</td>\n",
       "      <td>15000</td>\n",
       "      <td>8</td>\n",
       "    </tr>\n",
       "    <tr>\n",
       "      <th>50</th>\n",
       "      <td>Apartment</td>\n",
       "      <td>330</td>\n",
       "      <td>3</td>\n",
       "      <td>New Cairo - El Tagamoa</td>\n",
       "      <td>Cairo</td>\n",
       "      <td>20000</td>\n",
       "      <td>7</td>\n",
       "    </tr>\n",
       "    <tr>\n",
       "      <th>57</th>\n",
       "      <td>Apartment</td>\n",
       "      <td>390</td>\n",
       "      <td>6</td>\n",
       "      <td>Heliopolis</td>\n",
       "      <td>Cairo</td>\n",
       "      <td>35000</td>\n",
       "      <td>9</td>\n",
       "    </tr>\n",
       "    <tr>\n",
       "      <th>76</th>\n",
       "      <td>Duplex</td>\n",
       "      <td>330</td>\n",
       "      <td>1</td>\n",
       "      <td>New Cairo - El Tagamoa</td>\n",
       "      <td>Cairo</td>\n",
       "      <td>3000000</td>\n",
       "      <td>9</td>\n",
       "    </tr>\n",
       "    <tr>\n",
       "      <th>104</th>\n",
       "      <td>Apartment</td>\n",
       "      <td>300</td>\n",
       "      <td>1</td>\n",
       "      <td>Nasr City</td>\n",
       "      <td>Cairo</td>\n",
       "      <td>20000</td>\n",
       "      <td>8</td>\n",
       "    </tr>\n",
       "  </tbody>\n",
       "</table>\n",
       "</div>"
      ],
      "text/plain": [
       "    House_Type  Size  Floor                  Region   City    Price  BHK\n",
       "47   Apartment   400      2  New Cairo - El Tagamoa  Cairo    15000    8\n",
       "50   Apartment   330      3  New Cairo - El Tagamoa  Cairo    20000    7\n",
       "57   Apartment   390      6              Heliopolis  Cairo    35000    9\n",
       "76      Duplex   330      1  New Cairo - El Tagamoa  Cairo  3000000    9\n",
       "104  Apartment   300      1               Nasr City  Cairo    20000    8"
      ]
     },
     "execution_count": 41,
     "metadata": {},
     "output_type": "execute_result"
    }
   ],
   "source": [
    "data.head()"
   ]
  },
  {
   "cell_type": "code",
   "execution_count": 42,
   "id": "0fefd22d",
   "metadata": {},
   "outputs": [
    {
     "data": {
      "text/plain": [
       "count    1223.000000\n",
       "mean       43.334041\n",
       "std         9.712701\n",
       "min        30.000000\n",
       "25%        37.500000\n",
       "50%        42.857143\n",
       "75%        47.142857\n",
       "max       133.333333\n",
       "dtype: float64"
      ]
     },
     "execution_count": 42,
     "metadata": {},
     "output_type": "execute_result"
    }
   ],
   "source": [
    "(data['Size']/data['BHK']).describe()"
   ]
  },
  {
   "cell_type": "code",
   "execution_count": 43,
   "id": "cbdeb7c5",
   "metadata": {},
   "outputs": [
    {
     "data": {
      "text/html": [
       "<div>\n",
       "<style scoped>\n",
       "    .dataframe tbody tr th:only-of-type {\n",
       "        vertical-align: middle;\n",
       "    }\n",
       "\n",
       "    .dataframe tbody tr th {\n",
       "        vertical-align: top;\n",
       "    }\n",
       "\n",
       "    .dataframe thead th {\n",
       "        text-align: right;\n",
       "    }\n",
       "</style>\n",
       "<table border=\"1\" class=\"dataframe\">\n",
       "  <thead>\n",
       "    <tr style=\"text-align: right;\">\n",
       "      <th></th>\n",
       "      <th>Size</th>\n",
       "      <th>Floor</th>\n",
       "      <th>Price</th>\n",
       "      <th>BHK</th>\n",
       "    </tr>\n",
       "  </thead>\n",
       "  <tbody>\n",
       "    <tr>\n",
       "      <th>count</th>\n",
       "      <td>1223.000000</td>\n",
       "      <td>1223.000000</td>\n",
       "      <td>1.223000e+03</td>\n",
       "      <td>1223.000000</td>\n",
       "    </tr>\n",
       "    <tr>\n",
       "      <th>mean</th>\n",
       "      <td>337.695830</td>\n",
       "      <td>2.655765</td>\n",
       "      <td>1.901491e+06</td>\n",
       "      <td>8.002453</td>\n",
       "    </tr>\n",
       "    <tr>\n",
       "      <th>std</th>\n",
       "      <td>33.756503</td>\n",
       "      <td>2.247762</td>\n",
       "      <td>1.736852e+06</td>\n",
       "      <td>1.193611</td>\n",
       "    </tr>\n",
       "    <tr>\n",
       "      <th>min</th>\n",
       "      <td>300.000000</td>\n",
       "      <td>0.000000</td>\n",
       "      <td>2.600000e+03</td>\n",
       "      <td>3.000000</td>\n",
       "    </tr>\n",
       "    <tr>\n",
       "      <th>25%</th>\n",
       "      <td>302.000000</td>\n",
       "      <td>1.000000</td>\n",
       "      <td>3.500000e+04</td>\n",
       "      <td>7.000000</td>\n",
       "    </tr>\n",
       "    <tr>\n",
       "      <th>50%</th>\n",
       "      <td>335.000000</td>\n",
       "      <td>3.000000</td>\n",
       "      <td>1.550000e+06</td>\n",
       "      <td>8.000000</td>\n",
       "    </tr>\n",
       "    <tr>\n",
       "      <th>75%</th>\n",
       "      <td>360.000000</td>\n",
       "      <td>3.000000</td>\n",
       "      <td>3.500000e+06</td>\n",
       "      <td>9.000000</td>\n",
       "    </tr>\n",
       "    <tr>\n",
       "      <th>max</th>\n",
       "      <td>400.000000</td>\n",
       "      <td>12.000000</td>\n",
       "      <td>5.000000e+06</td>\n",
       "      <td>10.000000</td>\n",
       "    </tr>\n",
       "  </tbody>\n",
       "</table>\n",
       "</div>"
      ],
      "text/plain": [
       "              Size        Floor         Price          BHK\n",
       "count  1223.000000  1223.000000  1.223000e+03  1223.000000\n",
       "mean    337.695830     2.655765  1.901491e+06     8.002453\n",
       "std      33.756503     2.247762  1.736852e+06     1.193611\n",
       "min     300.000000     0.000000  2.600000e+03     3.000000\n",
       "25%     302.000000     1.000000  3.500000e+04     7.000000\n",
       "50%     335.000000     3.000000  1.550000e+06     8.000000\n",
       "75%     360.000000     3.000000  3.500000e+06     9.000000\n",
       "max     400.000000    12.000000  5.000000e+06    10.000000"
      ]
     },
     "execution_count": 43,
     "metadata": {},
     "output_type": "execute_result"
    }
   ],
   "source": [
    "data = data[((data['Size']/data['BHK']) >= 30)]\n",
    "data.describe()"
   ]
  },
  {
   "cell_type": "code",
   "execution_count": 44,
   "id": "ffac6ad5",
   "metadata": {},
   "outputs": [
    {
     "data": {
      "text/plain": [
       "(1223, 7)"
      ]
     },
     "execution_count": 44,
     "metadata": {},
     "output_type": "execute_result"
    }
   ],
   "source": [
    "data.shape"
   ]
  },
  {
   "cell_type": "code",
   "execution_count": 45,
   "id": "f2b2d16f",
   "metadata": {},
   "outputs": [
    {
     "data": {
      "text/plain": [
       "count    1.223000e+03\n",
       "mean     1.901491e+06\n",
       "std      1.736852e+06\n",
       "min      2.600000e+03\n",
       "25%      3.500000e+04\n",
       "50%      1.550000e+06\n",
       "75%      3.500000e+06\n",
       "max      5.000000e+06\n",
       "Name: Price, dtype: float64"
      ]
     },
     "execution_count": 45,
     "metadata": {},
     "output_type": "execute_result"
    }
   ],
   "source": [
    "data.Price.describe()"
   ]
  },
  {
   "cell_type": "code",
   "execution_count": 46,
   "id": "7e9c2f3c",
   "metadata": {},
   "outputs": [
    {
     "data": {
      "text/html": [
       "<div>\n",
       "<style scoped>\n",
       "    .dataframe tbody tr th:only-of-type {\n",
       "        vertical-align: middle;\n",
       "    }\n",
       "\n",
       "    .dataframe tbody tr th {\n",
       "        vertical-align: top;\n",
       "    }\n",
       "\n",
       "    .dataframe thead th {\n",
       "        text-align: right;\n",
       "    }\n",
       "</style>\n",
       "<table border=\"1\" class=\"dataframe\">\n",
       "  <thead>\n",
       "    <tr style=\"text-align: right;\">\n",
       "      <th></th>\n",
       "      <th>House_Type</th>\n",
       "      <th>Size</th>\n",
       "      <th>Floor</th>\n",
       "      <th>Region</th>\n",
       "      <th>City</th>\n",
       "      <th>Price</th>\n",
       "      <th>BHK</th>\n",
       "    </tr>\n",
       "  </thead>\n",
       "  <tbody>\n",
       "    <tr>\n",
       "      <th>47</th>\n",
       "      <td>Apartment</td>\n",
       "      <td>400</td>\n",
       "      <td>2</td>\n",
       "      <td>New Cairo - El Tagamoa</td>\n",
       "      <td>Cairo</td>\n",
       "      <td>15000</td>\n",
       "      <td>8</td>\n",
       "    </tr>\n",
       "    <tr>\n",
       "      <th>50</th>\n",
       "      <td>Apartment</td>\n",
       "      <td>330</td>\n",
       "      <td>3</td>\n",
       "      <td>New Cairo - El Tagamoa</td>\n",
       "      <td>Cairo</td>\n",
       "      <td>20000</td>\n",
       "      <td>7</td>\n",
       "    </tr>\n",
       "  </tbody>\n",
       "</table>\n",
       "</div>"
      ],
      "text/plain": [
       "   House_Type  Size  Floor                  Region   City  Price  BHK\n",
       "47  Apartment   400      2  New Cairo - El Tagamoa  Cairo  15000    8\n",
       "50  Apartment   330      3  New Cairo - El Tagamoa  Cairo  20000    7"
      ]
     },
     "execution_count": 46,
     "metadata": {},
     "output_type": "execute_result"
    }
   ],
   "source": [
    "data.head(2)"
   ]
  },
  {
   "cell_type": "code",
   "execution_count": 47,
   "id": "fa5911ad",
   "metadata": {},
   "outputs": [],
   "source": [
    "# Create the 'location' column by concatenating 'City' and 'Region'\n",
    "data['location'] = data['City'] + ', ' + data['Region']\n",
    "\n",
    "# Drop the 'City' and 'Region' columns\n",
    "data = data.drop(['City', 'Region'], axis=1)\n",
    "\n",
    "# Display the first few rows to check the result\n"
   ]
  },
  {
   "cell_type": "code",
   "execution_count": 48,
   "id": "3be2cb7c",
   "metadata": {},
   "outputs": [
    {
     "name": "stdout",
     "output_type": "stream",
     "text": [
      "   House_Type  Size  Floor  Price  BHK                       location\n",
      "47  Apartment   400      2  15000    8  Cairo, New Cairo - El Tagamoa\n",
      "50  Apartment   330      3  20000    7  Cairo, New Cairo - El Tagamoa\n"
     ]
    }
   ],
   "source": [
    "print(data.head(2))"
   ]
  },
  {
   "cell_type": "code",
   "execution_count": null,
   "id": "ff953774",
   "metadata": {},
   "outputs": [],
   "source": []
  },
  {
   "cell_type": "code",
   "execution_count": null,
   "id": "745c0a23",
   "metadata": {},
   "outputs": [],
   "source": []
  },
  {
   "cell_type": "code",
   "execution_count": null,
   "id": "acc493c8",
   "metadata": {},
   "outputs": [],
   "source": []
  },
  {
   "cell_type": "code",
   "execution_count": 49,
   "id": "01955c86",
   "metadata": {},
   "outputs": [
    {
     "name": "stdout",
     "output_type": "stream",
     "text": [
      "             Size       Floor         Price         BHK\n",
      "count  630.000000  630.000000  6.300000e+02  630.000000\n",
      "mean   339.349206    2.901587  1.692151e+06    8.092063\n",
      "std     32.930267    2.238519  1.295032e+06    1.169743\n",
      "min    300.000000    0.000000  2.600000e+03    3.000000\n",
      "25%    306.000000    2.000000  4.790000e+05    7.000000\n",
      "50%    337.000000    3.000000  1.600000e+06    8.000000\n",
      "75%    365.000000    3.000000  2.799172e+06    9.000000\n",
      "max    400.000000   12.000000  5.000000e+06   10.000000\n"
     ]
    }
   ],
   "source": [
    "def remove_outliers_size(df):\n",
    "    df_output = pd.DataFrame()\n",
    "    for key, subdf in df.groupby('location'):\n",
    "        m = np.mean(subdf['Price'])\n",
    "        st = np.std(subdf['Price'])\n",
    "        # Properly group each condition with parentheses\n",
    "        gen_df = subdf[(subdf['Price'] > (m - st)) & (subdf['Price'] <= (m + st))]\n",
    "        df_output = pd.concat([df_output, gen_df], ignore_index=True)\n",
    "    return df_output\n",
    "\n",
    "# Apply the function to the data\n",
    "data = remove_outliers_size(data)\n",
    "\n",
    "# Describe the cleaned data\n",
    "print(data.describe())"
   ]
  },
  {
   "cell_type": "code",
   "execution_count": 50,
   "id": "83a0307f",
   "metadata": {},
   "outputs": [],
   "source": [
    "def BHK_outlier_remover(df):\n",
    "    exclude_indices = np.array([])\n",
    "    for location, location_df in df.groupby('location'):\n",
    "        bhk_stats ={}\n",
    "        for bhk , bhk_df in location_df.groupby('BHK'):\n",
    "            bhk_stats[bhk]= {\n",
    "                'mean': np.mean(bhk_df.Price),\n",
    "                'std': np.std(bhk_df.Price),\n",
    "                'count': bhk_df.shape[0]\n",
    "            }\n",
    "        for bhk, bhk_df in location_df.groupby('BHK'):\n",
    "            stats = bhk_stats.get(bhk-1)\n",
    "            if stats and stats['count'] > 5:\n",
    "                exclude_indices = np.append(exclude_indices, bhk_df[bhk_df.Price<(stats['mean'])].index.values)\n",
    "    return df.drop(exclude_indices, axis = 'index')"
   ]
  },
  {
   "cell_type": "code",
   "execution_count": 51,
   "id": "f39b5cf9",
   "metadata": {},
   "outputs": [],
   "source": [
    "data = BHK_outlier_remover(data)"
   ]
  },
  {
   "cell_type": "code",
   "execution_count": 52,
   "id": "e5d29e56",
   "metadata": {},
   "outputs": [
    {
     "data": {
      "text/plain": [
       "(418, 6)"
      ]
     },
     "execution_count": 52,
     "metadata": {},
     "output_type": "execute_result"
    }
   ],
   "source": [
    "data.shape"
   ]
  },
  {
   "cell_type": "code",
   "execution_count": 53,
   "id": "12dc1377",
   "metadata": {},
   "outputs": [
    {
     "data": {
      "text/html": [
       "<div>\n",
       "<style scoped>\n",
       "    .dataframe tbody tr th:only-of-type {\n",
       "        vertical-align: middle;\n",
       "    }\n",
       "\n",
       "    .dataframe tbody tr th {\n",
       "        vertical-align: top;\n",
       "    }\n",
       "\n",
       "    .dataframe thead th {\n",
       "        text-align: right;\n",
       "    }\n",
       "</style>\n",
       "<table border=\"1\" class=\"dataframe\">\n",
       "  <thead>\n",
       "    <tr style=\"text-align: right;\">\n",
       "      <th></th>\n",
       "      <th>House_Type</th>\n",
       "      <th>Size</th>\n",
       "      <th>Floor</th>\n",
       "      <th>Price</th>\n",
       "      <th>BHK</th>\n",
       "      <th>location</th>\n",
       "    </tr>\n",
       "  </thead>\n",
       "  <tbody>\n",
       "    <tr>\n",
       "      <th>0</th>\n",
       "      <td>Duplex</td>\n",
       "      <td>350</td>\n",
       "      <td>11</td>\n",
       "      <td>40000</td>\n",
       "      <td>6</td>\n",
       "      <td>Alexandria, Al Ibrahimiyyah</td>\n",
       "    </tr>\n",
       "    <tr>\n",
       "      <th>1</th>\n",
       "      <td>Apartment</td>\n",
       "      <td>360</td>\n",
       "      <td>9</td>\n",
       "      <td>3200000</td>\n",
       "      <td>8</td>\n",
       "      <td>Alexandria, Bolkly</td>\n",
       "    </tr>\n",
       "    <tr>\n",
       "      <th>2</th>\n",
       "      <td>Stand Alone Villa</td>\n",
       "      <td>400</td>\n",
       "      <td>4</td>\n",
       "      <td>2200000</td>\n",
       "      <td>8</td>\n",
       "      <td>Alexandria, Borg al-Arab</td>\n",
       "    </tr>\n",
       "    <tr>\n",
       "      <th>3</th>\n",
       "      <td>Stand Alone Villa</td>\n",
       "      <td>380</td>\n",
       "      <td>4</td>\n",
       "      <td>1800000</td>\n",
       "      <td>8</td>\n",
       "      <td>Alexandria, Borg al-Arab</td>\n",
       "    </tr>\n",
       "    <tr>\n",
       "      <th>4</th>\n",
       "      <td>Stand Alone Villa</td>\n",
       "      <td>400</td>\n",
       "      <td>4</td>\n",
       "      <td>3300000</td>\n",
       "      <td>9</td>\n",
       "      <td>Alexandria, Borg al-Arab</td>\n",
       "    </tr>\n",
       "    <tr>\n",
       "      <th>...</th>\n",
       "      <td>...</td>\n",
       "      <td>...</td>\n",
       "      <td>...</td>\n",
       "      <td>...</td>\n",
       "      <td>...</td>\n",
       "      <td>...</td>\n",
       "    </tr>\n",
       "    <tr>\n",
       "      <th>625</th>\n",
       "      <td>Apartment</td>\n",
       "      <td>340</td>\n",
       "      <td>2</td>\n",
       "      <td>8500</td>\n",
       "      <td>8</td>\n",
       "      <td>Giza, West Somid</td>\n",
       "    </tr>\n",
       "    <tr>\n",
       "      <th>626</th>\n",
       "      <td>Apartment</td>\n",
       "      <td>300</td>\n",
       "      <td>2</td>\n",
       "      <td>13000</td>\n",
       "      <td>8</td>\n",
       "      <td>Giza, West Somid</td>\n",
       "    </tr>\n",
       "    <tr>\n",
       "      <th>627</th>\n",
       "      <td>Apartment</td>\n",
       "      <td>300</td>\n",
       "      <td>2</td>\n",
       "      <td>25000</td>\n",
       "      <td>8</td>\n",
       "      <td>Giza, West Somid</td>\n",
       "    </tr>\n",
       "    <tr>\n",
       "      <th>628</th>\n",
       "      <td>Apartment</td>\n",
       "      <td>300</td>\n",
       "      <td>1</td>\n",
       "      <td>25000</td>\n",
       "      <td>8</td>\n",
       "      <td>Giza, West Somid</td>\n",
       "    </tr>\n",
       "    <tr>\n",
       "      <th>629</th>\n",
       "      <td>Apartment</td>\n",
       "      <td>300</td>\n",
       "      <td>1</td>\n",
       "      <td>20000</td>\n",
       "      <td>8</td>\n",
       "      <td>Giza, West Somid</td>\n",
       "    </tr>\n",
       "  </tbody>\n",
       "</table>\n",
       "<p>418 rows × 6 columns</p>\n",
       "</div>"
      ],
      "text/plain": [
       "            House_Type  Size  Floor    Price  BHK                     location\n",
       "0               Duplex   350     11    40000    6  Alexandria, Al Ibrahimiyyah\n",
       "1            Apartment   360      9  3200000    8           Alexandria, Bolkly\n",
       "2    Stand Alone Villa   400      4  2200000    8     Alexandria, Borg al-Arab\n",
       "3    Stand Alone Villa   380      4  1800000    8     Alexandria, Borg al-Arab\n",
       "4    Stand Alone Villa   400      4  3300000    9     Alexandria, Borg al-Arab\n",
       "..                 ...   ...    ...      ...  ...                          ...\n",
       "625          Apartment   340      2     8500    8             Giza, West Somid\n",
       "626          Apartment   300      2    13000    8             Giza, West Somid\n",
       "627          Apartment   300      2    25000    8             Giza, West Somid\n",
       "628          Apartment   300      1    25000    8             Giza, West Somid\n",
       "629          Apartment   300      1    20000    8             Giza, West Somid\n",
       "\n",
       "[418 rows x 6 columns]"
      ]
     },
     "execution_count": 53,
     "metadata": {},
     "output_type": "execute_result"
    }
   ],
   "source": [
    "data"
   ]
  },
  {
   "cell_type": "markdown",
   "id": "da37590d",
   "metadata": {},
   "source": [
    "## Cleaned Data"
   ]
  },
  {
   "cell_type": "code",
   "execution_count": 54,
   "id": "82aa33ac",
   "metadata": {},
   "outputs": [
    {
     "data": {
      "text/html": [
       "<div>\n",
       "<style scoped>\n",
       "    .dataframe tbody tr th:only-of-type {\n",
       "        vertical-align: middle;\n",
       "    }\n",
       "\n",
       "    .dataframe tbody tr th {\n",
       "        vertical-align: top;\n",
       "    }\n",
       "\n",
       "    .dataframe thead th {\n",
       "        text-align: right;\n",
       "    }\n",
       "</style>\n",
       "<table border=\"1\" class=\"dataframe\">\n",
       "  <thead>\n",
       "    <tr style=\"text-align: right;\">\n",
       "      <th></th>\n",
       "      <th>House_Type</th>\n",
       "      <th>Size</th>\n",
       "      <th>Floor</th>\n",
       "      <th>Price</th>\n",
       "      <th>BHK</th>\n",
       "      <th>location</th>\n",
       "    </tr>\n",
       "  </thead>\n",
       "  <tbody>\n",
       "    <tr>\n",
       "      <th>0</th>\n",
       "      <td>Duplex</td>\n",
       "      <td>350</td>\n",
       "      <td>11</td>\n",
       "      <td>40000</td>\n",
       "      <td>6</td>\n",
       "      <td>Alexandria, Al Ibrahimiyyah</td>\n",
       "    </tr>\n",
       "    <tr>\n",
       "      <th>1</th>\n",
       "      <td>Apartment</td>\n",
       "      <td>360</td>\n",
       "      <td>9</td>\n",
       "      <td>3200000</td>\n",
       "      <td>8</td>\n",
       "      <td>Alexandria, Bolkly</td>\n",
       "    </tr>\n",
       "    <tr>\n",
       "      <th>2</th>\n",
       "      <td>Stand Alone Villa</td>\n",
       "      <td>400</td>\n",
       "      <td>4</td>\n",
       "      <td>2200000</td>\n",
       "      <td>8</td>\n",
       "      <td>Alexandria, Borg al-Arab</td>\n",
       "    </tr>\n",
       "    <tr>\n",
       "      <th>3</th>\n",
       "      <td>Stand Alone Villa</td>\n",
       "      <td>380</td>\n",
       "      <td>4</td>\n",
       "      <td>1800000</td>\n",
       "      <td>8</td>\n",
       "      <td>Alexandria, Borg al-Arab</td>\n",
       "    </tr>\n",
       "    <tr>\n",
       "      <th>4</th>\n",
       "      <td>Stand Alone Villa</td>\n",
       "      <td>400</td>\n",
       "      <td>4</td>\n",
       "      <td>3300000</td>\n",
       "      <td>9</td>\n",
       "      <td>Alexandria, Borg al-Arab</td>\n",
       "    </tr>\n",
       "  </tbody>\n",
       "</table>\n",
       "</div>"
      ],
      "text/plain": [
       "          House_Type  Size  Floor    Price  BHK                     location\n",
       "0             Duplex   350     11    40000    6  Alexandria, Al Ibrahimiyyah\n",
       "1          Apartment   360      9  3200000    8           Alexandria, Bolkly\n",
       "2  Stand Alone Villa   400      4  2200000    8     Alexandria, Borg al-Arab\n",
       "3  Stand Alone Villa   380      4  1800000    8     Alexandria, Borg al-Arab\n",
       "4  Stand Alone Villa   400      4  3300000    9     Alexandria, Borg al-Arab"
      ]
     },
     "execution_count": 54,
     "metadata": {},
     "output_type": "execute_result"
    }
   ],
   "source": [
    "data.head()"
   ]
  },
  {
   "cell_type": "code",
   "execution_count": 55,
   "id": "16ae71ac",
   "metadata": {},
   "outputs": [],
   "source": [
    "data.to_csv('Cleaned_data.csv')"
   ]
  },
  {
   "cell_type": "code",
   "execution_count": 56,
   "id": "eccb4a59",
   "metadata": {},
   "outputs": [
    {
     "data": {
      "text/plain": [
       "(            House_Type  Size  Floor  BHK                     location\n",
       " 0               Duplex   350     11    6  Alexandria, Al Ibrahimiyyah\n",
       " 1            Apartment   360      9    8           Alexandria, Bolkly\n",
       " 2    Stand Alone Villa   400      4    8     Alexandria, Borg al-Arab\n",
       " 3    Stand Alone Villa   380      4    8     Alexandria, Borg al-Arab\n",
       " 4    Stand Alone Villa   400      4    9     Alexandria, Borg al-Arab\n",
       " ..                 ...   ...    ...  ...                          ...\n",
       " 625          Apartment   340      2    8             Giza, West Somid\n",
       " 626          Apartment   300      2    8             Giza, West Somid\n",
       " 627          Apartment   300      2    8             Giza, West Somid\n",
       " 628          Apartment   300      1    8             Giza, West Somid\n",
       " 629          Apartment   300      1    8             Giza, West Somid\n",
       " \n",
       " [418 rows x 5 columns],\n",
       " 0        40000\n",
       " 1      3200000\n",
       " 2      2200000\n",
       " 3      1800000\n",
       " 4      3300000\n",
       "         ...   \n",
       " 625       8500\n",
       " 626      13000\n",
       " 627      25000\n",
       " 628      25000\n",
       " 629      20000\n",
       " Name: Price, Length: 418, dtype: int64)"
      ]
     },
     "execution_count": 56,
     "metadata": {},
     "output_type": "execute_result"
    }
   ],
   "source": [
    "X= data.drop(columns=['Price'])\n",
    "y = data['Price']\n",
    "X, y"
   ]
  },
  {
   "cell_type": "code",
   "execution_count": 75,
   "id": "1cf0bbc4",
   "metadata": {},
   "outputs": [],
   "source": [
    "from sklearn.compose import ColumnTransformer\n",
    "from sklearn.preprocessing import OneHotEncoder, StandardScaler\n",
    "from sklearn.pipeline import Pipeline\n",
    "from sklearn.linear_model import LinearRegression, Ridge\n",
    "from sklearn.model_selection import train_test_split\n",
    "from sklearn.metrics import r2_score"
   ]
  },
  {
   "cell_type": "code",
   "execution_count": 68,
   "id": "3fa6044d",
   "metadata": {},
   "outputs": [],
   "source": [
    "# Define the preprocessing pipeline\n",
    "def preprocess_data(X_train, X_test):\n",
    "    # Ensure consistent categories for OneHotEncoder\n",
    "    unique_location_categories = list(X_train['location'].unique())\n",
    "    unique_house_type_categories = list(X_train['House_Type'].unique())\n",
    "    \n",
    "    # Creating the column transformer\n",
    "    column_trans = ColumnTransformer(\n",
    "        transformers=[\n",
    "            ('location', OneHotEncoder(sparse=False, categories=[unique_location_categories], handle_unknown='ignore'), ['location']),\n",
    "            ('house_type', OneHotEncoder(sparse=False, categories=[unique_house_type_categories], handle_unknown='ignore'), ['House_Type']),\n",
    "            ('scaler', StandardScaler(), ['Size', 'Floor', 'BHK'])\n",
    "        ],\n",
    "        remainder='passthrough'\n",
    "    )\n",
    "    \n",
    "    return column_trans"
   ]
  },
  {
   "cell_type": "code",
   "execution_count": 69,
   "id": "88081794",
   "metadata": {},
   "outputs": [],
   "source": [
    "\n",
    "# Preprocess the data\n",
    "X_train, X_test, y_train, y_test = train_test_split(X, y, test_size=0.2, random_state=0)\n",
    "column_trans = preprocess_data(X_train, X_test)\n"
   ]
  },
  {
   "cell_type": "markdown",
   "id": "a917ca4b",
   "metadata": {},
   "source": [
    "## Applying Linear Regression"
   ]
  },
  {
   "cell_type": "code",
   "execution_count": 71,
   "id": "68e790ac",
   "metadata": {},
   "outputs": [
    {
     "name": "stdout",
     "output_type": "stream",
     "text": [
      "Predictions: [ 4.47718400e+06  2.63884800e+06  6.80448000e+05  4.54809600e+06\n",
      "  3.76243200e+06  3.80646400e+06  2.46707200e+06  2.55180800e+06\n",
      " -5.01760000e+04  8.24320000e+04  2.13964800e+06  1.48710400e+06\n",
      "  3.09401600e+06  2.65702400e+06  4.19123200e+06  1.79635200e+06\n",
      "  2.86924800e+06  2.79500800e+06  2.34547200e+06  2.78988800e+06\n",
      "  2.03187200e+06  1.07520000e+04  3.00569600e+06  9.05216000e+05\n",
      "  2.05900800e+06  1.41568000e+06  2.85772800e+06  2.34393600e+06\n",
      "  2.65446400e+06  3.80646400e+06  3.09811200e+06  9.85856000e+05\n",
      "  1.41747200e+06  4.16409600e+06 -5.12000000e+04  1.25670400e+06\n",
      "  3.46086400e+06  2.41433600e+06  1.73030400e+06  9.39264000e+05\n",
      "  4.67481600e+06  1.83603200e+06  1.66092800e+06  2.77683200e+06\n",
      " -8.58717403e+13  2.75840000e+06  2.82931200e+06  3.04435200e+06\n",
      "  1.51756800e+06  3.97388800e+06  4.65920000e+04  2.55180800e+06\n",
      " -8.58717405e+13  3.66515200e+06  2.78809600e+06 -1.33376000e+05\n",
      " -8.93440000e+04  2.61657600e+06  9.35680000e+05  1.64684800e+06\n",
      "  2.80192000e+06  1.79020800e+06  2.72716800e+06  2.77632000e+06\n",
      "  2.71385600e+06  2.31526400e+06  8.20736000e+05  8.61184000e+05\n",
      " -3.20000000e+05  7.83104000e+05  2.74329600e+06  2.43404800e+06\n",
      "  9.45408000e+05  3.04435200e+06  2.40486400e+06  8.73472000e+05\n",
      "  2.53721600e+06  2.79500800e+06  3.78752000e+06  1.39468800e+06\n",
      "  2.55180800e+06 -3.49440000e+05  1.83705600e+06  3.76576000e+06]\n",
      "R^2 Score: -95111816074968.14\n"
     ]
    },
    {
     "name": "stderr",
     "output_type": "stream",
     "text": [
      "D:\\college\\python\\Lib\\site-packages\\sklearn\\preprocessing\\_encoders.py:972: FutureWarning: `sparse` was renamed to `sparse_output` in version 1.2 and will be removed in 1.4. `sparse_output` is ignored unless you leave `sparse` to its default value.\n",
      "  warnings.warn(\n",
      "D:\\college\\python\\Lib\\site-packages\\sklearn\\preprocessing\\_encoders.py:972: FutureWarning: `sparse` was renamed to `sparse_output` in version 1.2 and will be removed in 1.4. `sparse_output` is ignored unless you leave `sparse` to its default value.\n",
      "  warnings.warn(\n"
     ]
    }
   ],
   "source": [
    "lr = LinearRegression()\n",
    "pipe = Pipeline([\n",
    "    ('preprocessor', column_trans),\n",
    "    ('regressor', lr)\n",
    "])\n",
    "pipe.fit(X_train, y_train)\n",
    "\n",
    "# Make predictions\n",
    "y_pred_lr = pipe.predict(X_test)\n",
    "# Print predictions\n",
    "print(\"Predictions:\", y_pred_lr)\n",
    "\n",
    "# Optionally, evaluate the model\n",
    "print(\"R^2 Score:\", r2_score(y_test, y_pred_lr))"
   ]
  },
  {
   "cell_type": "markdown",
   "id": "58ebe8bf",
   "metadata": {},
   "source": [
    "### Applying Lasso"
   ]
  },
  {
   "cell_type": "code",
   "execution_count": 73,
   "id": "367ece10",
   "metadata": {},
   "outputs": [],
   "source": [
    "lasso = Lasso(alpha = 0.1)"
   ]
  },
  {
   "cell_type": "code",
   "execution_count": 74,
   "id": "cbb8fab6",
   "metadata": {},
   "outputs": [
    {
     "name": "stdout",
     "output_type": "stream",
     "text": [
      "Predictions: [4476837.07438808 2638207.42033342  681678.42265501 4547423.30440078\n",
      " 3761244.55466663 3805418.34962634 2466786.10192795 2553233.98449633\n",
      "  -50542.73803805   82589.18491349 2139486.72001522 1487799.30183882\n",
      " 3094707.83621181 2656793.84163904 4189896.57280835 1796796.30754072\n",
      " 2870068.89971875 2794257.54855012 2347242.67788907 2788883.91269664\n",
      " 2031422.80339591    5859.60504029 3007142.9358819   906518.52595384\n",
      " 2057912.149971   1416665.24798714 2856471.64859037 2344849.36447561\n",
      " 2655913.14111507 3805418.34962634 3099205.24787722  986789.25660411\n",
      " 1416862.57914431 4165136.03050043  -51021.14957228 1256133.60952177\n",
      " 3460322.61290175 2413731.62701488 1730915.82619553  939577.59228291\n",
      " 4673954.5998896  1836264.35383292 1661786.09292782 2778332.21504638\n",
      " 1660418.51141903 2758459.03050625 2828922.15161303 3045319.74260367\n",
      " 1518226.67194653 3973157.42235081   46923.34825744 2553233.98449633\n",
      " 1422312.35963895 3665093.21840059 2787755.15727466 -133113.83200761\n",
      "  -88940.0370479  2616333.83886919  936733.27581001 1647668.84692528\n",
      " 2800648.28436542 1790268.50192112 2726555.01025284 2775990.78560588\n",
      " 2713639.61576133 2314734.72217956  822000.46051386  862344.73099413\n",
      " -321058.31310906  784329.05682961 2742865.13435801 2435590.26780849\n",
      "  946613.28885735 3045319.74260367 2403773.12571177  874364.99812368\n",
      " 2538585.92111212 2794257.54855012 3786595.35495628 1393839.23884426\n",
      " 2553233.98449633 -350584.04468457 1837440.7909998  3764659.06376372]\n",
      "R^2 Score: 0.6452702381527297\n"
     ]
    },
    {
     "name": "stderr",
     "output_type": "stream",
     "text": [
      "D:\\college\\python\\Lib\\site-packages\\sklearn\\preprocessing\\_encoders.py:972: FutureWarning: `sparse` was renamed to `sparse_output` in version 1.2 and will be removed in 1.4. `sparse_output` is ignored unless you leave `sparse` to its default value.\n",
      "  warnings.warn(\n",
      "D:\\college\\python\\Lib\\site-packages\\sklearn\\preprocessing\\_encoders.py:972: FutureWarning: `sparse` was renamed to `sparse_output` in version 1.2 and will be removed in 1.4. `sparse_output` is ignored unless you leave `sparse` to its default value.\n",
      "  warnings.warn(\n",
      "D:\\college\\python\\Lib\\site-packages\\sklearn\\linear_model\\_coordinate_descent.py:628: ConvergenceWarning: Objective did not converge. You might want to increase the number of iterations, check the scale of the features or consider increasing regularisation. Duality gap: 3.735e+13, tolerance: 5.900e+10\n",
      "  model = cd_fast.enet_coordinate_descent(\n"
     ]
    }
   ],
   "source": [
    "pipe = Pipeline([\n",
    "    ('preprocessor', column_trans),\n",
    "    ('regressor', lasso)\n",
    "])\n",
    "pipe.fit(X_train, y_train)\n",
    "\n",
    "# Make predictions\n",
    "y_pred_lasso = pipe.predict(X_test)\n",
    "\n",
    "# Print predictions\n",
    "print(\"Predictions:\", y_pred_lasso)\n",
    "\n",
    "# Optionally, evaluate the model\n",
    "print(\"R^2 Score:\", r2_score(y_test, y_pred_lasso))"
   ]
  },
  {
   "cell_type": "markdown",
   "id": "6fb3a590",
   "metadata": {},
   "source": [
    "### applying rigde "
   ]
  },
  {
   "cell_type": "code",
   "execution_count": 76,
   "id": "d690d29f",
   "metadata": {},
   "outputs": [
    {
     "name": "stdout",
     "output_type": "stream",
     "text": [
      "Predictions: [4000011.44086295 2652525.29145032  674957.06115636 4070557.31279872\n",
      " 3680469.83588023 3711743.14550093 2417266.62709783 2416580.80374381\n",
      "  251549.7008393   183292.87078136 2062502.0066421  1445579.69381749\n",
      " 3085577.35092    2668629.28475753 3779177.04588179 1811097.29592329\n",
      " 2798473.27270573 2769860.51095767 2236457.73127612 2794794.941316\n",
      " 1963892.67396353  682932.25327511 2967757.5225129   939408.6644606\n",
      " 2113194.18404494 1395438.80073593 2875219.26226027 2226251.89703616\n",
      " 2642919.78936443 3711743.14550093 3040995.65552499  994727.71687109\n",
      " 1371537.81448657 3597695.42595347  177230.5976571  1290048.98719638\n",
      " 3324105.28324278 2389992.94382431 1745254.48211657  993137.15078895\n",
      " 4253972.70475132 1837667.54741494 1665729.16733738 2714850.55710565\n",
      " 1482097.67059139 2729268.75030091 2814966.64088287 3018787.7301506\n",
      " 1477072.26939884 3846667.43647916  256347.5533305  2416580.80374381\n",
      " 1272526.62042419 3577347.13721661 2784298.5842858    12235.18255999\n",
      "   43508.49218069 2549039.91993331  957575.58458908 1651619.99295022\n",
      " 2806552.58663863 1817448.451335   2715071.91069171 2772540.93896317\n",
      " 2710225.41875324 2324118.54095651  861917.83831157  908135.3548399\n",
      "   22462.98637403  816206.45536275 2732455.31188591 2299004.35051752\n",
      "  958071.20463238 3018787.7301506  2399148.20506068  897656.84849485\n",
      " 2389065.88675136 2769860.51095767 3692930.91298472 1353341.34853019\n",
      " 2416580.80374381   18704.59374577 1838843.3119472  3709632.85015533]\n",
      "R^2 Score: 0.6513756018705166\n"
     ]
    },
    {
     "name": "stderr",
     "output_type": "stream",
     "text": [
      "D:\\college\\python\\Lib\\site-packages\\sklearn\\preprocessing\\_encoders.py:972: FutureWarning: `sparse` was renamed to `sparse_output` in version 1.2 and will be removed in 1.4. `sparse_output` is ignored unless you leave `sparse` to its default value.\n",
      "  warnings.warn(\n",
      "D:\\college\\python\\Lib\\site-packages\\sklearn\\preprocessing\\_encoders.py:972: FutureWarning: `sparse` was renamed to `sparse_output` in version 1.2 and will be removed in 1.4. `sparse_output` is ignored unless you leave `sparse` to its default value.\n",
      "  warnings.warn(\n"
     ]
    }
   ],
   "source": [
    "\n",
    "# Create and fit the pipeline with Ridge regression\n",
    "ridge = Ridge(alpha=1.0)  # You can adjust the alpha parameter as needed\n",
    "pipe = Pipeline([\n",
    "    ('preprocessor', column_trans),\n",
    "    ('regressor', ridge)\n",
    "])\n",
    "pipe.fit(X_train, y_train)\n",
    "\n",
    "# Make predictions\n",
    "y_pred_ridge = pipe.predict(X_test)\n",
    "\n",
    "# Print predictions\n",
    "print(\"Predictions:\", y_pred_ridge)\n",
    "\n",
    "# Optionally, evaluate the model\n",
    "print(\"R^2 Score:\", r2_score(y_test, y_pred_ridge))"
   ]
  },
  {
   "cell_type": "code",
   "execution_count": 78,
   "id": "ad22a43e",
   "metadata": {},
   "outputs": [
    {
     "name": "stdout",
     "output_type": "stream",
     "text": [
      "No Regularization:  -95111816074968.14\n",
      "Lasso:  0.6452702381527297\n",
      "Ridge:  0.6513756018705166\n"
     ]
    }
   ],
   "source": [
    "print('No Regularization: ', r2_score(y_test, y_pred_lr))\n",
    "print('Lasso: ', r2_score(y_test, y_pred_lasso))\n",
    "print('Ridge: ', r2_score(y_test, y_pred_ridge))\n"
   ]
  },
  {
   "cell_type": "code",
   "execution_count": 79,
   "id": "34ea9784",
   "metadata": {},
   "outputs": [],
   "source": [
    "import pickle"
   ]
  },
  {
   "cell_type": "code",
   "execution_count": 80,
   "id": "33764d0e",
   "metadata": {},
   "outputs": [],
   "source": [
    "pickle.dump(pipe, open('RidgeModel.pkl', 'wb'))"
   ]
  },
  {
   "cell_type": "code",
   "execution_count": null,
   "id": "fdce2589",
   "metadata": {},
   "outputs": [],
   "source": []
  }
 ],
 "metadata": {
  "kernelspec": {
   "display_name": "Python 3 (ipykernel)",
   "language": "python",
   "name": "python3"
  },
  "language_info": {
   "codemirror_mode": {
    "name": "ipython",
    "version": 3
   },
   "file_extension": ".py",
   "mimetype": "text/x-python",
   "name": "python",
   "nbconvert_exporter": "python",
   "pygments_lexer": "ipython3",
   "version": "3.11.5"
  }
 },
 "nbformat": 4,
 "nbformat_minor": 5
}
